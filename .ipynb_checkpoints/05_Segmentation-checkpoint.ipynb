{
 "cells": [
  {
   "cell_type": "markdown",
   "id": "8f911f28",
   "metadata": {},
   "source": [
    "Resource : https://github.com/alan-turing-institute/sktime/blob/f2e096f3f009d7d2f811c3fe9550b4812984b77c/examples/segmentation_with_clasp.ipynb\n",
    "\n",
    "Prerequisites:"
   ]
  },
  {
   "cell_type": "code",
   "execution_count": null,
   "id": "c1444d53",
   "metadata": {},
   "outputs": [],
   "source": [
    "import pandas as pd\n",
    "\n",
    "from sktime.annotation.clasp import ClaSPSegmentation, find_dominant_window_sizes\n",
    "\n",
    "from sktime.annotation.plotting.utils import (\n",
    "    plot_time_series_with_change_points,\n",
    "    plot_time_series_with_profiles,\n",
    ")\n",
    "from sktime.datasets import load_electric_devices_segmentation"
   ]
  },
  {
   "cell_type": "markdown",
   "id": "8c275fa9",
   "metadata": {},
   "source": [
    "## Segmentation:"
   ]
  },
  {
   "cell_type": "markdown",
   "id": "0288f706",
   "metadata": {},
   "source": [
    "Time series segmentation aims to find regions in a time series data that are different from each other. Transition point from one region to another one is called change point. Change point detection is the task of finding these points and this is what introduced in this notebook."
   ]
  },
  {
   "cell_type": "code",
   "execution_count": null,
   "id": "1efc53d1",
   "metadata": {},
   "outputs": [],
   "source": [
    "# Using a built-in data:\n",
    "y , period , change_points = load_electric_devices_segmentation()\n",
    "\n",
    "print(\"Period length:\" ,period)\n",
    "print(\"Change points:\" ,change_points)"
   ]
  },
  {
   "cell_type": "code",
   "execution_count": null,
   "id": "feeb445a",
   "metadata": {},
   "outputs": [],
   "source": [
    "plot_time_series_with_change_points(\"Electric Devices\", y, change_points)"
   ]
  },
  {
   "cell_type": "markdown",
   "id": "f564ed01",
   "metadata": {},
   "source": [
    "## Segmentation with ClaSP\n",
    "\n",
    "Classification Score Profile (ClaSP) splits the time series into two sub-sections and the change point is found by training binary classification. The point which identifies this partition best is choosen.\n",
    "This algorithm needs at least two parameters:\n",
    "* period length of the time series\n",
    "* the number of change points"
   ]
  },
  {
   "cell_type": "code",
   "execution_count": null,
   "id": "18160d25",
   "metadata": {},
   "outputs": [],
   "source": [
    "clasp = ClaSPSegmentation(period_length=period, n_cps=5, fmt=\"sparse\")\n",
    "# Both fitting and predicting from time series data:\n",
    "found_cps = clasp.fit_predict(y)\n",
    "profiles = clasp.profiles\n",
    "scores = clasp.scores\n",
    "print(\"The found change points are:\", found_cps.to_numpy())"
   ]
  },
  {
   "cell_type": "markdown",
   "id": "8e3f496a",
   "metadata": {},
   "source": [
    "From these profiles the highest probability is choosen as change point:\n",
    "For 5 regions, there are 4 profiles and points."
   ]
  },
  {
   "cell_type": "code",
   "execution_count": null,
   "id": "4af2ca9d",
   "metadata": {},
   "outputs": [],
   "source": [
    "profiles"
   ]
  },
  {
   "cell_type": "code",
   "execution_count": null,
   "id": "4ba7fc19",
   "metadata": {},
   "outputs": [],
   "source": [
    "# Highest scores in every profile:\n",
    "scores"
   ]
  },
  {
   "cell_type": "markdown",
   "id": "e3c40453",
   "metadata": {},
   "source": [
    "The positions of these scores will be the change points."
   ]
  },
  {
   "cell_type": "markdown",
   "id": "b3300569",
   "metadata": {},
   "source": [
    "### Comparison of found points and true points:"
   ]
  },
  {
   "cell_type": "code",
   "execution_count": null,
   "id": "62a81fb0",
   "metadata": {},
   "outputs": [],
   "source": [
    "plot_time_series_with_profiles(\n",
    "    \"Electric Devices\",\n",
    "    y,\n",
    "    profiles,\n",
    "    change_points,\n",
    "    found_cps,\n",
    ")"
   ]
  },
  {
   "cell_type": "markdown",
   "id": "0c8a277b",
   "metadata": {},
   "source": [
    "To choose a proper window length for this algorithm, there is a built-in function to calculate it from the time series."
   ]
  },
  {
   "cell_type": "code",
   "execution_count": null,
   "id": "f81143dd",
   "metadata": {},
   "outputs": [],
   "source": [
    "dominant_period_size = find_dominant_window_sizes(y)\n",
    "print(\"Dominant Period:\", dominant_period_size)"
   ]
  }
 ],
 "metadata": {
  "kernelspec": {
   "display_name": "Python 3",
   "language": "python",
   "name": "python3"
  },
  "language_info": {
   "codemirror_mode": {
    "name": "ipython",
    "version": 3
   },
   "file_extension": ".py",
   "mimetype": "text/x-python",
   "name": "python",
   "nbconvert_exporter": "python",
   "pygments_lexer": "ipython3",
   "version": "3.9.12"
  }
 },
 "nbformat": 4,
 "nbformat_minor": 5
}
