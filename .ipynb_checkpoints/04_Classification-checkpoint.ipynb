{
 "cells": [
  {
   "cell_type": "markdown",
   "id": "8375d43c",
   "metadata": {},
   "source": [
    "Prerequisites:"
   ]
  },
  {
   "cell_type": "code",
   "execution_count": 1,
   "id": "423226a3",
   "metadata": {},
   "outputs": [],
   "source": [
    "import numpy as np\n",
    "import pandas as pd\n",
    "import matplotlib.pyplot as plt\n",
    "\n",
    "from sklearn.pipeline import Pipeline\n",
    "from sklearn.metrics import accuracy_score\n",
    "from sklearn.pipeline import make_pipeline\n",
    "\n",
    "import sktime\n",
    "from sktime.datasets import load_shampoo_sales , load_from_tsfile\n",
    "from sktime.utils.plotting import plot_series\n",
    "from sktime.transformations.series.outlier_detection import HampelFilter\n",
    "\n",
    "# Classifiers:\n",
    "from sklearn.ensemble import RandomForestClassifier\n",
    "from sklearn.linear_model import RidgeClassifier\n",
    "\n",
    "#Transformers:\n",
    "from sktime.transformations.panel.tsfresh import TSFreshFeatureExtractor\n",
    "from sktime.transformations.panel.rocket import Rocket"
   ]
  },
  {
   "cell_type": "markdown",
   "id": "c9f9afde",
   "metadata": {},
   "source": [
    "## Loading data:\n",
    "\n",
    "Data retrieved from : https://www.timeseriesclassification.com/dataset.php\n",
    "This dataset was formatted by R. Olszewski as part of his thesis “Generalized feature extraction for structural\tpattern recognition in time-series data,” at Carnegie Mellon University, 2001.\n",
    "\n",
    "Dataset contains measurements from a sensor during the process of semiconducter fabrication. The two classes are normal and abnormal."
   ]
  },
  {
   "cell_type": "code",
   "execution_count": 2,
   "id": "fdcac6fd",
   "metadata": {},
   "outputs": [
    {
     "name": "stdout",
     "output_type": "stream",
     "text": [
      "(200, 1) (200,)\n",
      "(1000, 1) (1000,)\n"
     ]
    }
   ],
   "source": [
    "# Loading data from .ts file\n",
    "# Taking only a part of the data otherwise, it will take long time to train and test.\n",
    "X , y = load_from_tsfile( \"Wafer/Wafer_TRAIN.ts\"  )\n",
    "X_train = X.iloc[:200,:]\n",
    "y_train = y[:200]\n",
    "\n",
    "X_test , y_test = load_from_tsfile( \"Wafer/Wafer_TEST.ts\"  )\n",
    "X_test = X_test.iloc[:1000,:]\n",
    "y_test = y_test[:1000]\n",
    "\n",
    "print(X_train.shape ,y_train.shape )\n",
    "print(X_test.shape ,y_test.shape)"
   ]
  },
  {
   "cell_type": "code",
   "execution_count": 3,
   "id": "3e421843",
   "metadata": {},
   "outputs": [
    {
     "data": {
      "text/plain": [
       "(array(['-1', '1'], dtype='<U2'), array([ 27, 173], dtype=int64))"
      ]
     },
     "execution_count": 3,
     "metadata": {},
     "output_type": "execute_result"
    }
   ],
   "source": [
    "np.unique(y_train , return_counts=True)"
   ]
  },
  {
   "cell_type": "markdown",
   "id": "8f8685ef",
   "metadata": {},
   "source": [
    "Imbalanced dataset\n"
   ]
  },
  {
   "cell_type": "code",
   "execution_count": 4,
   "id": "7a6c1eb0",
   "metadata": {},
   "outputs": [
    {
     "data": {
      "text/plain": [
       "<matplotlib.legend.Legend at 0x227de4e9ac0>"
      ]
     },
     "execution_count": 4,
     "metadata": {},
     "output_type": "execute_result"
    },
    {
     "data": {
      "image/png": "[encoded data removed]",
      "text/plain": [
       "<Figure size 432x288 with 1 Axes>"
      ]
     },
     "metadata": {
      "needs_background": "light"
     },
     "output_type": "display_data"
    }
   ],
   "source": [
    "# Plotting data from 2 different classes\n",
    "plt.plot(X.iloc[0,0] , label=\"Class 1\" )\n",
    "plt.plot(X.iloc[9,0], label=\"Class -1\")\n",
    "plt.title(\"Sensor data\")\n",
    "plt.legend()"
   ]
  },
  {
   "cell_type": "markdown",
   "id": "75709c03",
   "metadata": {},
   "source": [
    "## Transformation:"
   ]
  },
  {
   "cell_type": "markdown",
   "id": "b2b7b3d1",
   "metadata": {},
   "source": [
    "Extracting various information from time series can help us to classify them. This feature extraction process can be done using tsfresh module. It is a different module than sktime but, also included in the sktime library. \n",
    "\n",
    "In this process, multiple features are calculated for each series such as autocorrelation statistics, absolute summations, entropies and duplicates.\n"
   ]
  },
  {
   "cell_type": "code",
   "execution_count": 5,
   "id": "6e271914",
   "metadata": {},
   "outputs": [
    {
     "name": "stderr",
     "output_type": "stream",
     "text": [
      "Feature Extraction: 100%|████████████████████████████████████████████████████████████| 200/200 [00:24<00:00,  8.06it/s]\n",
      "Feature Extraction: 100%|██████████████████████████████████████████████████████████| 1000/1000 [01:37<00:00, 10.23it/s]\n"
     ]
    },
    {
     "data": {
      "text/html": [
       "<div>\n",
       "<style scoped>\n",
       "    .dataframe tbody tr th:only-of-type {\n",
       "        vertical-align: middle;\n",
       "    }\n",
       "\n",
       "    .dataframe tbody tr th {\n",
       "        vertical-align: top;\n",
       "    }\n",
       "\n",
       "    .dataframe thead th {\n",
       "        text-align: right;\n",
       "    }\n",
       "</style>\n",
       "<table border=\"1\" class=\"dataframe\">\n",
       "  <thead>\n",
       "    <tr style=\"text-align: right;\">\n",
       "      <th></th>\n",
       "      <th>dim_0__variance_larger_than_standard_deviation</th>\n",
       "      <th>dim_0__has_duplicate_max</th>\n",
       "      <th>dim_0__has_duplicate_min</th>\n",
       "      <th>dim_0__has_duplicate</th>\n",
       "      <th>dim_0__sum_values</th>\n",
       "      <th>dim_0__abs_energy</th>\n",
       "      <th>dim_0__mean_abs_change</th>\n",
       "      <th>dim_0__mean_change</th>\n",
       "      <th>dim_0__mean_second_derivative_central</th>\n",
       "      <th>dim_0__median</th>\n",
       "      <th>...</th>\n",
       "      <th>dim_0__permutation_entropy__dimension_6__tau_1</th>\n",
       "      <th>dim_0__permutation_entropy__dimension_7__tau_1</th>\n",
       "      <th>dim_0__query_similarity_count__query_None__threshold_0.0</th>\n",
       "      <th>dim_0__matrix_profile__feature_\"min\"__threshold_0.98</th>\n",
       "      <th>dim_0__matrix_profile__feature_\"max\"__threshold_0.98</th>\n",
       "      <th>dim_0__matrix_profile__feature_\"mean\"__threshold_0.98</th>\n",
       "      <th>dim_0__matrix_profile__feature_\"median\"__threshold_0.98</th>\n",
       "      <th>dim_0__matrix_profile__feature_\"25\"__threshold_0.98</th>\n",
       "      <th>dim_0__matrix_profile__feature_\"75\"__threshold_0.98</th>\n",
       "      <th>dim_0__mean_n_absolute_max__number_of_maxima_7</th>\n",
       "    </tr>\n",
       "  </thead>\n",
       "  <tbody>\n",
       "    <tr>\n",
       "      <th>0</th>\n",
       "      <td>0.0</td>\n",
       "      <td>0.0</td>\n",
       "      <td>1.0</td>\n",
       "      <td>1.0</td>\n",
       "      <td>5.900000e-08</td>\n",
       "      <td>150.999999</td>\n",
       "      <td>0.073559</td>\n",
       "      <td>0.003026</td>\n",
       "      <td>0.000228</td>\n",
       "      <td>0.275122</td>\n",
       "      <td>...</td>\n",
       "      <td>2.814940</td>\n",
       "      <td>3.210021</td>\n",
       "      <td>0.0</td>\n",
       "      <td>1.992490</td>\n",
       "      <td>7.290039</td>\n",
       "      <td>4.590458</td>\n",
       "      <td>4.447286</td>\n",
       "      <td>3.299824</td>\n",
       "      <td>5.987825</td>\n",
       "      <td>1.734632</td>\n",
       "    </tr>\n",
       "    <tr>\n",
       "      <th>1</th>\n",
       "      <td>0.0</td>\n",
       "      <td>1.0</td>\n",
       "      <td>1.0</td>\n",
       "      <td>1.0</td>\n",
       "      <td>2.640000e-06</td>\n",
       "      <td>151.000001</td>\n",
       "      <td>0.053254</td>\n",
       "      <td>-0.000128</td>\n",
       "      <td>0.000000</td>\n",
       "      <td>0.149323</td>\n",
       "      <td>...</td>\n",
       "      <td>2.493239</td>\n",
       "      <td>2.823889</td>\n",
       "      <td>0.0</td>\n",
       "      <td>1.592576</td>\n",
       "      <td>6.644166</td>\n",
       "      <td>3.069368</td>\n",
       "      <td>2.603529</td>\n",
       "      <td>1.887681</td>\n",
       "      <td>4.166875</td>\n",
       "      <td>1.084591</td>\n",
       "    </tr>\n",
       "    <tr>\n",
       "      <th>2</th>\n",
       "      <td>0.0</td>\n",
       "      <td>0.0</td>\n",
       "      <td>1.0</td>\n",
       "      <td>1.0</td>\n",
       "      <td>7.000000e-08</td>\n",
       "      <td>151.000002</td>\n",
       "      <td>0.177475</td>\n",
       "      <td>0.000203</td>\n",
       "      <td>0.000000</td>\n",
       "      <td>-0.341733</td>\n",
       "      <td>...</td>\n",
       "      <td>3.146638</td>\n",
       "      <td>3.709556</td>\n",
       "      <td>0.0</td>\n",
       "      <td>1.138673</td>\n",
       "      <td>5.780368</td>\n",
       "      <td>4.528510</td>\n",
       "      <td>4.893145</td>\n",
       "      <td>3.882078</td>\n",
       "      <td>5.190581</td>\n",
       "      <td>2.402725</td>\n",
       "    </tr>\n",
       "    <tr>\n",
       "      <th>3</th>\n",
       "      <td>0.0</td>\n",
       "      <td>0.0</td>\n",
       "      <td>1.0</td>\n",
       "      <td>1.0</td>\n",
       "      <td>5.350000e-07</td>\n",
       "      <td>150.999999</td>\n",
       "      <td>0.058836</td>\n",
       "      <td>-0.000015</td>\n",
       "      <td>0.000000</td>\n",
       "      <td>0.407168</td>\n",
       "      <td>...</td>\n",
       "      <td>2.874027</td>\n",
       "      <td>3.169620</td>\n",
       "      <td>0.0</td>\n",
       "      <td>1.205840</td>\n",
       "      <td>6.651399</td>\n",
       "      <td>2.912498</td>\n",
       "      <td>2.607068</td>\n",
       "      <td>1.940151</td>\n",
       "      <td>3.586077</td>\n",
       "      <td>1.096732</td>\n",
       "    </tr>\n",
       "    <tr>\n",
       "      <th>4</th>\n",
       "      <td>0.0</td>\n",
       "      <td>0.0</td>\n",
       "      <td>1.0</td>\n",
       "      <td>1.0</td>\n",
       "      <td>1.463000e-06</td>\n",
       "      <td>150.999997</td>\n",
       "      <td>0.057819</td>\n",
       "      <td>0.000000</td>\n",
       "      <td>0.000000</td>\n",
       "      <td>0.352437</td>\n",
       "      <td>...</td>\n",
       "      <td>2.971568</td>\n",
       "      <td>3.270495</td>\n",
       "      <td>0.0</td>\n",
       "      <td>1.184827</td>\n",
       "      <td>6.272190</td>\n",
       "      <td>2.697131</td>\n",
       "      <td>2.400886</td>\n",
       "      <td>1.868804</td>\n",
       "      <td>3.148360</td>\n",
       "      <td>1.105914</td>\n",
       "    </tr>\n",
       "  </tbody>\n",
       "</table>\n",
       "<p>5 rows × 783 columns</p>\n",
       "</div>"
      ],
      "text/plain": [
       "   dim_0__variance_larger_than_standard_deviation  dim_0__has_duplicate_max  \\\n",
       "0                                             0.0                       0.0   \n",
       "1                                             0.0                       1.0   \n",
       "2                                             0.0                       0.0   \n",
       "3                                             0.0                       0.0   \n",
       "4                                             0.0                       0.0   \n",
       "\n",
       "   dim_0__has_duplicate_min  dim_0__has_duplicate  dim_0__sum_values  \\\n",
       "0                       1.0                   1.0       5.900000e-08   \n",
       "1                       1.0                   1.0       2.640000e-06   \n",
       "2                       1.0                   1.0       7.000000e-08   \n",
       "3                       1.0                   1.0       5.350000e-07   \n",
       "4                       1.0                   1.0       1.463000e-06   \n",
       "\n",
       "   dim_0__abs_energy  dim_0__mean_abs_change  dim_0__mean_change  \\\n",
       "0         150.999999                0.073559            0.003026   \n",
       "1         151.000001                0.053254           -0.000128   \n",
       "2         151.000002                0.177475            0.000203   \n",
       "3         150.999999                0.058836           -0.000015   \n",
       "4         150.999997                0.057819            0.000000   \n",
       "\n",
       "   dim_0__mean_second_derivative_central  dim_0__median  ...  \\\n",
       "0                               0.000228       0.275122  ...   \n",
       "1                               0.000000       0.149323  ...   \n",
       "2                               0.000000      -0.341733  ...   \n",
       "3                               0.000000       0.407168  ...   \n",
       "4                               0.000000       0.352437  ...   \n",
       "\n",
       "   dim_0__permutation_entropy__dimension_6__tau_1  \\\n",
       "0                                        2.814940   \n",
       "1                                        2.493239   \n",
       "2                                        3.146638   \n",
       "3                                        2.874027   \n",
       "4                                        2.971568   \n",
       "\n",
       "   dim_0__permutation_entropy__dimension_7__tau_1  \\\n",
       "0                                        3.210021   \n",
       "1                                        2.823889   \n",
       "2                                        3.709556   \n",
       "3                                        3.169620   \n",
       "4                                        3.270495   \n",
       "\n",
       "   dim_0__query_similarity_count__query_None__threshold_0.0  \\\n",
       "0                                                0.0          \n",
       "1                                                0.0          \n",
       "2                                                0.0          \n",
       "3                                                0.0          \n",
       "4                                                0.0          \n",
       "\n",
       "   dim_0__matrix_profile__feature_\"min\"__threshold_0.98  \\\n",
       "0                                           1.992490      \n",
       "1                                           1.592576      \n",
       "2                                           1.138673      \n",
       "3                                           1.205840      \n",
       "4                                           1.184827      \n",
       "\n",
       "   dim_0__matrix_profile__feature_\"max\"__threshold_0.98  \\\n",
       "0                                           7.290039      \n",
       "1                                           6.644166      \n",
       "2                                           5.780368      \n",
       "3                                           6.651399      \n",
       "4                                           6.272190      \n",
       "\n",
       "   dim_0__matrix_profile__feature_\"mean\"__threshold_0.98  \\\n",
       "0                                           4.590458       \n",
       "1                                           3.069368       \n",
       "2                                           4.528510       \n",
       "3                                           2.912498       \n",
       "4                                           2.697131       \n",
       "\n",
       "   dim_0__matrix_profile__feature_\"median\"__threshold_0.98  \\\n",
       "0                                           4.447286         \n",
       "1                                           2.603529         \n",
       "2                                           4.893145         \n",
       "3                                           2.607068         \n",
       "4                                           2.400886         \n",
       "\n",
       "   dim_0__matrix_profile__feature_\"25\"__threshold_0.98  \\\n",
       "0                                           3.299824     \n",
       "1                                           1.887681     \n",
       "2                                           3.882078     \n",
       "3                                           1.940151     \n",
       "4                                           1.868804     \n",
       "\n",
       "   dim_0__matrix_profile__feature_\"75\"__threshold_0.98  \\\n",
       "0                                           5.987825     \n",
       "1                                           4.166875     \n",
       "2                                           5.190581     \n",
       "3                                           3.586077     \n",
       "4                                           3.148360     \n",
       "\n",
       "   dim_0__mean_n_absolute_max__number_of_maxima_7  \n",
       "0                                        1.734632  \n",
       "1                                        1.084591  \n",
       "2                                        2.402725  \n",
       "3                                        1.096732  \n",
       "4                                        1.105914  \n",
       "\n",
       "[5 rows x 783 columns]"
      ]
     },
     "execution_count": 5,
     "metadata": {},
     "output_type": "execute_result"
    }
   ],
   "source": [
    "# TS feature extraction instance:\n",
    "t = TSFreshFeatureExtractor(default_fc_parameters=\"efficient\", show_warnings=False)\n",
    "# Fitting and transforming training set \n",
    "Xt = t.fit_transform(X_train)\n",
    "# Only transforming the test set(not fitting, since that would be learning the test set and wouldnt be practical)\n",
    "Xtest = t.transform(X_test)\n",
    "Xt.head()"
   ]
  },
  {
   "cell_type": "markdown",
   "id": "0ca33eae",
   "metadata": {},
   "source": [
    "783 features extracted from every single time series."
   ]
  },
  {
   "cell_type": "markdown",
   "id": "258b03c5",
   "metadata": {},
   "source": [
    "## Classification\n",
    "\n",
    "Classifying the time series features using an sklearn classifier."
   ]
  },
  {
   "cell_type": "code",
   "execution_count": 6,
   "id": "1b2e97e4",
   "metadata": {},
   "outputs": [
    {
     "data": {
      "text/plain": [
       "RandomForestClassifier()"
      ]
     },
     "execution_count": 6,
     "metadata": {},
     "output_type": "execute_result"
    }
   ],
   "source": [
    "classifier = RandomForestClassifier()\n",
    "classifier.fit(Xt, y_train)"
   ]
  },
  {
   "cell_type": "code",
   "execution_count": 7,
   "id": "24b8e80a",
   "metadata": {},
   "outputs": [
    {
     "data": {
      "text/plain": [
       "1.0"
      ]
     },
     "execution_count": 7,
     "metadata": {},
     "output_type": "execute_result"
    }
   ],
   "source": [
    "classifier.score(Xtest,y_test)"
   ]
  },
  {
   "cell_type": "markdown",
   "id": "200ce0ac",
   "metadata": {},
   "source": [
    "Perfectly classifies."
   ]
  },
  {
   "cell_type": "markdown",
   "id": "a30ac22c",
   "metadata": {},
   "source": [
    "## Pipelining:\n",
    "\n",
    "Instead of transforming train and test seperately, using a pipeline will be easier to implement."
   ]
  },
  {
   "cell_type": "code",
   "execution_count": 8,
   "id": "835e86f7",
   "metadata": {},
   "outputs": [
    {
     "name": "stderr",
     "output_type": "stream",
     "text": [
      "C:\\Users\\a\\anaconda3\\Lib\\site-packages\\sklearn\\linear_model\\_ridge.py:194: LinAlgWarning: Ill-conditioned matrix (rcond=2.22103e-08): result may not be accurate.\n",
      "  dual_coef = linalg.solve(K, y, sym_pos=True, overwrite_a=False)\n"
     ]
    },
    {
     "data": {
      "text/plain": [
       "Pipeline(steps=[('rocket', Rocket()),\n",
       "                ('ridgeclassifier', RidgeClassifier(alpha=1))])"
      ]
     },
     "execution_count": 8,
     "metadata": {},
     "output_type": "execute_result"
    }
   ],
   "source": [
    "classifier = make_pipeline(\n",
    "    \n",
    "    # ROCKET TRANSFORM:\n",
    "    Rocket(), \n",
    "    \n",
    "    # Classifier:\n",
    "    RidgeClassifier(alpha=1)\n",
    "\n",
    ")\n",
    "classifier.fit(X_train, y_train)"
   ]
  },
  {
   "cell_type": "code",
   "execution_count": 9,
   "id": "c2ac7ab7",
   "metadata": {},
   "outputs": [
    {
     "data": {
      "text/plain": [
       "0.997"
      ]
     },
     "execution_count": 9,
     "metadata": {},
     "output_type": "execute_result"
    }
   ],
   "source": [
    "classifier.score(X_test, y_test)"
   ]
  },
  {
   "cell_type": "markdown",
   "id": "f508aa40",
   "metadata": {},
   "source": [
    "## Outlier detection example:"
   ]
  },
  {
   "cell_type": "code",
   "execution_count": 10,
   "id": "9a364bd1",
   "metadata": {},
   "outputs": [
    {
     "data": {
      "text/plain": [
       "<AxesSubplot:xlabel='Period'>"
      ]
     },
     "execution_count": 10,
     "metadata": {},
     "output_type": "execute_result"
    },
    {
     "data": {
      "image/png": "[encoded data removed]",
      "text/plain": [
       "<Figure size 432x288 with 1 Axes>"
      ]
     },
     "metadata": {
      "needs_background": "light"
     },
     "output_type": "display_data"
    }
   ],
   "source": [
    "# A built-in dataset is used\n",
    "y = load_shampoo_sales()\n",
    "y.plot()"
   ]
  },
  {
   "cell_type": "markdown",
   "id": "c568afc8",
   "metadata": {},
   "source": [
    "Outlier detection using hampel filter:"
   ]
  },
  {
   "cell_type": "code",
   "execution_count": 11,
   "id": "11aa658c",
   "metadata": {},
   "outputs": [
    {
     "name": "stdout",
     "output_type": "stream",
     "text": [
      "4 outlier(s) found.\n"
     ]
    }
   ],
   "source": [
    "transformer = HampelFilter(window_length=12 , return_bool=True , n_sigma=2) # default sigma=3\n",
    "y_hat = transformer.fit_transform(y)\n",
    "outliers = y[y_hat]\n",
    "print(str(outliers.count()) + \" outlier(s) found.\")\n",
    "new_y = y[y_hat==False]"
   ]
  },
  {
   "cell_type": "code",
   "execution_count": 12,
   "id": "3d2d9201",
   "metadata": {},
   "outputs": [
    {
     "data": {
      "text/plain": [
       "(<Figure size 1152x288 with 1 Axes>,\n",
       " <AxesSubplot:ylabel='Number of shampoo sales'>)"
      ]
     },
     "execution_count": 12,
     "metadata": {},
     "output_type": "execute_result"
    },
    {
     "data": {
      "image/png": "[encoded data removed]",
      "text/plain": [
       "<Figure size 1152x288 with 1 Axes>"
      ]
     },
     "metadata": {
      "needs_background": "light"
     },
     "output_type": "display_data"
    }
   ],
   "source": [
    "plot_series(new_y,outliers,labels=[\"y\",\"outliers\"])"
   ]
  }
 ],
 "metadata": {
  "kernelspec": {
   "display_name": "Python 3",
   "language": "python",
   "name": "python3"
  },
  "language_info": {
   "codemirror_mode": {
    "name": "ipython",
    "version": 3
   },
   "file_extension": ".py",
   "mimetype": "text/x-python",
   "name": "python",
   "nbconvert_exporter": "python",
   "pygments_lexer": "ipython3",
   "version": "3.9.12"
  }
 },
 "nbformat": 4,
 "nbformat_minor": 5
}
